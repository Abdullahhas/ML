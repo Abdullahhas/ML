{
 "cells": [
  {
   "cell_type": "markdown",
   "id": "a33eb347",
   "metadata": {},
   "source": [
    "## Numpy array and basics"
   ]
  },
  {
   "cell_type": "code",
   "execution_count": 3,
   "id": "8b575973",
   "metadata": {},
   "outputs": [],
   "source": [
    "import numpy as np"
   ]
  },
  {
   "cell_type": "markdown",
   "id": "b478b527",
   "metadata": {},
   "source": [
    "creating array from lists"
   ]
  },
  {
   "cell_type": "code",
   "execution_count": 4,
   "id": "09be0f8e",
   "metadata": {},
   "outputs": [
    {
     "data": {
      "text/plain": [
       "array([1, 2, 3, 4, 5])"
      ]
     },
     "execution_count": 4,
     "metadata": {},
     "output_type": "execute_result"
    }
   ],
   "source": [
    "arr_1d = np.array([1,2,3,4,5])\n",
    "arr_1d"
   ]
  },
  {
   "cell_type": "code",
   "execution_count": 8,
   "id": "2dda4e05",
   "metadata": {},
   "outputs": [
    {
     "data": {
      "text/plain": [
       "array([[1, 2, 3],\n",
       "       [4, 5, 6]])"
      ]
     },
     "execution_count": 8,
     "metadata": {},
     "output_type": "execute_result"
    }
   ],
   "source": [
    "#arr_2d = np.array([1,2,3] , [4,5,6]) #this is a error because it should contain single list here we provide 2\n",
    "\n",
    "\n",
    "#correct v of this\n",
    "arr_2d = np.array([[1,2,3] , [4,5,6]])\n",
    "arr_2d"
   ]
  },
  {
   "cell_type": "markdown",
   "id": "e66b793c",
   "metadata": {},
   "source": [
    "### List vs Numpy array"
   ]
  },
  {
   "cell_type": "code",
   "execution_count": 9,
   "id": "796767c7",
   "metadata": {},
   "outputs": [
    {
     "name": "stdout",
     "output_type": "stream",
     "text": [
      "Python list multiplication :  [1, 2, 3, 1, 2, 3]\n",
      "Python array multiplication :  [2 4 6]\n"
     ]
    }
   ],
   "source": [
    "py_list = [1,2,3]\n",
    "print('Python list multiplication : ' , py_list * 2)\n",
    "\n",
    "\n",
    "np_array = np.array([1,2,3])\n",
    "print('Python array multiplication : ' , np_array * 2)\n"
   ]
  },
  {
   "cell_type": "markdown",
   "id": "f0b3e229",
   "metadata": {},
   "source": [
    "### creating array from scratch"
   ]
  },
  {
   "cell_type": "code",
   "execution_count": 13,
   "id": "f8960687",
   "metadata": {},
   "outputs": [
    {
     "data": {
      "text/plain": [
       "array([[0., 0., 0., 0.],\n",
       "       [0., 0., 0., 0.],\n",
       "       [0., 0., 0., 0.]])"
      ]
     },
     "execution_count": 13,
     "metadata": {},
     "output_type": "execute_result"
    }
   ],
   "source": [
    "zeros = np.zeros((3,4))\n",
    "zeros"
   ]
  },
  {
   "cell_type": "code",
   "execution_count": 15,
   "id": "0c30e4ec",
   "metadata": {},
   "outputs": [
    {
     "data": {
      "text/plain": [
       "array([[1., 1., 1., 1.],\n",
       "       [1., 1., 1., 1.],\n",
       "       [1., 1., 1., 1.]])"
      ]
     },
     "execution_count": 15,
     "metadata": {},
     "output_type": "execute_result"
    }
   ],
   "source": [
    "ones = np.ones((3,4))\n",
    "ones"
   ]
  },
  {
   "cell_type": "code",
   "execution_count": 16,
   "id": "d8a1e075",
   "metadata": {},
   "outputs": [
    {
     "data": {
      "text/plain": [
       "array([[7, 7, 7],\n",
       "       [7, 7, 7]])"
      ]
     },
     "execution_count": 16,
     "metadata": {},
     "output_type": "execute_result"
    }
   ],
   "source": [
    "# array of constants\n",
    "\n",
    "full = np.full((2,3) , 7)\n",
    "full"
   ]
  },
  {
   "cell_type": "code",
   "execution_count": 17,
   "id": "85ef008f",
   "metadata": {},
   "outputs": [
    {
     "data": {
      "text/plain": [
       "array([[0.01254462, 0.02844168, 0.10830264],\n",
       "       [0.77536219, 0.67157313, 0.08648773]])"
      ]
     },
     "execution_count": 17,
     "metadata": {},
     "output_type": "execute_result"
    }
   ],
   "source": [
    "#array of random num\n",
    "\n",
    "random = np.random.random((2,3))  #here is a random is a class and other random is a method inside the random class\n",
    "random"
   ]
  },
  {
   "cell_type": "code",
   "execution_count": null,
   "id": "256a2b82",
   "metadata": {},
   "outputs": [
    {
     "data": {
      "text/plain": [
       "array([0, 2, 4, 6, 8])"
      ]
     },
     "execution_count": 18,
     "metadata": {},
     "output_type": "execute_result"
    }
   ],
   "source": [
    "# array of sequence\n",
    "\n",
    "sequence = np.arange(0 , 10 ,2)   \n",
    "sequence"
   ]
  },
  {
   "cell_type": "markdown",
   "id": "0ad3a549",
   "metadata": {},
   "source": [
    "### Vector, Matrix and Tensor"
   ]
  },
  {
   "cell_type": "code",
   "execution_count": 19,
   "id": "34f7d4cb",
   "metadata": {},
   "outputs": [
    {
     "data": {
      "text/plain": [
       "array([1, 2, 3])"
      ]
     },
     "execution_count": 19,
     "metadata": {},
     "output_type": "execute_result"
    }
   ],
   "source": [
    "vector = np.array([1,2,3])\n",
    "vector"
   ]
  },
  {
   "cell_type": "code",
   "execution_count": null,
   "id": "933c1b86",
   "metadata": {},
   "outputs": [
    {
     "data": {
      "text/plain": [
       "array([[1, 2, 3],\n",
       "       [4, 5, 6]])"
      ]
     },
     "execution_count": 20,
     "metadata": {},
     "output_type": "execute_result"
    }
   ],
   "source": [
    "matrix = np.array([[1,2,3],      #matrix is always 2D\n",
    "                   [4,5,6]\n",
    "                  ])\n",
    "matrix"
   ]
  },
  {
   "cell_type": "code",
   "execution_count": 22,
   "id": "07856d10",
   "metadata": {},
   "outputs": [
    {
     "data": {
      "text/plain": [
       "array([[[1, 2],\n",
       "        [3, 4]],\n",
       "\n",
       "       [[5, 6],\n",
       "        [7, 8]]])"
      ]
     },
     "execution_count": 22,
     "metadata": {},
     "output_type": "execute_result"
    }
   ],
   "source": [
    "tesnor = np.array([\n",
    "            [[1,2] , [3,4]],    # tensor is used for more dimensions\n",
    "            [[5,6] , [7,8]]                   \n",
    "                ])\n",
    "\n",
    "tesnor"
   ]
  },
  {
   "cell_type": "markdown",
   "id": "f67ef53a",
   "metadata": {},
   "source": [
    "### Array Properties"
   ]
  },
  {
   "cell_type": "code",
   "execution_count": 23,
   "id": "52a8eeb3",
   "metadata": {},
   "outputs": [
    {
     "name": "stdout",
     "output_type": "stream",
     "text": [
      "Shape : (2, 3)\n",
      "Dimensions : 2\n",
      "Size : 6\n",
      "Dtype : int64\n"
     ]
    }
   ],
   "source": [
    "arr = np.array([\n",
    "    [1,2,3],\n",
    "    [4,5,6]\n",
    "])\n",
    "\n",
    "print(\"Shape :\" , arr.shape)\n",
    "print(\"Dimensions :\" , arr.ndim)\n",
    "print(\"Size :\" , arr.size)\n",
    "print(\"Dtype :\" , arr.dtype)"
   ]
  },
  {
   "cell_type": "markdown",
   "id": "9eb3cb58",
   "metadata": {},
   "source": [
    "### Array reShaping"
   ]
  },
  {
   "cell_type": "code",
   "execution_count": 25,
   "id": "134eb69c",
   "metadata": {},
   "outputs": [
    {
     "name": "stdout",
     "output_type": "stream",
     "text": [
      "Orignal array : [ 0  1  2  3  4  5  6  7  8  9 10 11]\n"
     ]
    }
   ],
   "source": [
    "arr = np.arange(12)\n",
    "print(\"Orignal array :\" , arr)"
   ]
  },
  {
   "cell_type": "code",
   "execution_count": 26,
   "id": "20ac0416",
   "metadata": {},
   "outputs": [
    {
     "name": "stdout",
     "output_type": "stream",
     "text": [
      "Reshaped array : [[ 0  1  2  3]\n",
      " [ 4  5  6  7]\n",
      " [ 8  9 10 11]]\n"
     ]
    }
   ],
   "source": [
    "reshaped = arr.reshape((3,4))\n",
    "print(\"Reshaped array :\" , reshaped)"
   ]
  },
  {
   "cell_type": "code",
   "execution_count": 27,
   "id": "95e17d6e",
   "metadata": {},
   "outputs": [
    {
     "name": "stdout",
     "output_type": "stream",
     "text": [
      "Flatten array : [ 0  1  2  3  4  5  6  7  8  9 10 11]\n"
     ]
    }
   ],
   "source": [
    "flattened = reshaped.flatten()\n",
    "print(\"Flatten array :\" , flattened)"
   ]
  },
  {
   "cell_type": "code",
   "execution_count": null,
   "id": "0d3e9e5e",
   "metadata": {},
   "outputs": [],
   "source": [
    "# Above all methods returned the copy of orignal array\n",
    "\n",
    "# but ravel method returns the orignal array"
   ]
  },
  {
   "cell_type": "code",
   "execution_count": null,
   "id": "033ef3a8",
   "metadata": {},
   "outputs": [
    {
     "name": "stdout",
     "output_type": "stream",
     "text": [
      "Raveled array : [ 0  1  2  3  4  5  6  7  8  9 10 11]\n"
     ]
    }
   ],
   "source": [
    "raveled = reshaped.ravel()      \n",
    "print(\"Raveled array :\" , raveled)  "
   ]
  },
  {
   "cell_type": "code",
   "execution_count": 30,
   "id": "1434ff46",
   "metadata": {},
   "outputs": [
    {
     "name": "stdout",
     "output_type": "stream",
     "text": [
      "Transpose array : [[ 0  4  8]\n",
      " [ 1  5  9]\n",
      " [ 2  6 10]\n",
      " [ 3  7 11]]\n"
     ]
    }
   ],
   "source": [
    "#Transpose \n",
    "\n",
    "transpose = reshaped.T\n",
    "print(\"Transpose array :\" , transpose)"
   ]
  },
  {
   "cell_type": "code",
   "execution_count": 1,
   "id": "51682f89",
   "metadata": {},
   "outputs": [
    {
     "name": "stdout",
     "output_type": "stream",
     "text": [
      "Hello\n"
     ]
    }
   ],
   "source": [
    "print(\"Hello\")"
   ]
  }
 ],
 "metadata": {
  "kernelspec": {
   "display_name": "Python 3",
   "language": "python",
   "name": "python3"
  },
  "language_info": {
   "codemirror_mode": {
    "name": "ipython",
    "version": 3
   },
   "file_extension": ".py",
   "mimetype": "text/x-python",
   "name": "python",
   "nbconvert_exporter": "python",
   "pygments_lexer": "ipython3",
   "version": "3.11.3"
  }
 },
 "nbformat": 4,
 "nbformat_minor": 5
}
