{
 "cells": [
  {
   "cell_type": "markdown",
   "id": "a33eb347",
   "metadata": {},
   "source": [
    "## Numpy array and basics"
   ]
  },
  {
   "cell_type": "code",
   "execution_count": 3,
   "id": "8b575973",
   "metadata": {},
   "outputs": [],
   "source": [
    "import numpy as np"
   ]
  },
  {
   "cell_type": "markdown",
   "id": "b478b527",
   "metadata": {},
   "source": [
    "creating array from lists"
   ]
  },
  {
   "cell_type": "code",
   "execution_count": 4,
   "id": "09be0f8e",
   "metadata": {},
   "outputs": [
    {
     "data": {
      "text/plain": [
       "array([1, 2, 3, 4, 5])"
      ]
     },
     "execution_count": 4,
     "metadata": {},
     "output_type": "execute_result"
    }
   ],
   "source": [
    "arr_1d = np.array([1,2,3,4,5])\n",
    "arr_1d"
   ]
  },
  {
   "cell_type": "code",
   "execution_count": 8,
   "id": "2dda4e05",
   "metadata": {},
   "outputs": [
    {
     "data": {
      "text/plain": [
       "array([[1, 2, 3],\n",
       "       [4, 5, 6]])"
      ]
     },
     "execution_count": 8,
     "metadata": {},
     "output_type": "execute_result"
    }
   ],
   "source": [
    "#arr_2d = np.array([1,2,3] , [4,5,6]) #this is a error because it should contain single list here we provide 2\n",
    "\n",
    "\n",
    "#correct v of this\n",
    "arr_2d = np.array([[1,2,3] , [4,5,6]])\n",
    "arr_2d"
   ]
  },
  {
   "cell_type": "markdown",
   "id": "e66b793c",
   "metadata": {},
   "source": [
    "### List vs Numpy array"
   ]
  },
  {
   "cell_type": "code",
   "execution_count": 9,
   "id": "796767c7",
   "metadata": {},
   "outputs": [
    {
     "name": "stdout",
     "output_type": "stream",
     "text": [
      "Python list multiplication :  [1, 2, 3, 1, 2, 3]\n",
      "Python array multiplication :  [2 4 6]\n"
     ]
    }
   ],
   "source": [
    "py_list = [1,2,3]\n",
    "print('Python list multiplication : ' , py_list * 2)\n",
    "\n",
    "\n",
    "np_array = np.array([1,2,3])\n",
    "print('Python array multiplication : ' , np_array * 2)\n"
   ]
  },
  {
   "cell_type": "markdown",
   "id": "f0b3e229",
   "metadata": {},
   "source": [
    "### creating array from scratch"
   ]
  },
  {
   "cell_type": "code",
   "execution_count": 13,
   "id": "f8960687",
   "metadata": {},
   "outputs": [
    {
     "data": {
      "text/plain": [
       "array([[0., 0., 0., 0.],\n",
       "       [0., 0., 0., 0.],\n",
       "       [0., 0., 0., 0.]])"
      ]
     },
     "execution_count": 13,
     "metadata": {},
     "output_type": "execute_result"
    }
   ],
   "source": [
    "zeros = np.zeros((3,4))\n",
    "zeros"
   ]
  },
  {
   "cell_type": "code",
   "execution_count": 15,
   "id": "0c30e4ec",
   "metadata": {},
   "outputs": [
    {
     "data": {
      "text/plain": [
       "array([[1., 1., 1., 1.],\n",
       "       [1., 1., 1., 1.],\n",
       "       [1., 1., 1., 1.]])"
      ]
     },
     "execution_count": 15,
     "metadata": {},
     "output_type": "execute_result"
    }
   ],
   "source": [
    "ones = np.ones((3,4))\n",
    "ones"
   ]
  },
  {
   "cell_type": "code",
   "execution_count": 16,
   "id": "d8a1e075",
   "metadata": {},
   "outputs": [
    {
     "data": {
      "text/plain": [
       "array([[7, 7, 7],\n",
       "       [7, 7, 7]])"
      ]
     },
     "execution_count": 16,
     "metadata": {},
     "output_type": "execute_result"
    }
   ],
   "source": [
    "# array of constants\n",
    "\n",
    "full = np.full((2,3) , 7)\n",
    "full"
   ]
  },
  {
   "cell_type": "code",
   "execution_count": 17,
   "id": "85ef008f",
   "metadata": {},
   "outputs": [
    {
     "data": {
      "text/plain": [
       "array([[0.01254462, 0.02844168, 0.10830264],\n",
       "       [0.77536219, 0.67157313, 0.08648773]])"
      ]
     },
     "execution_count": 17,
     "metadata": {},
     "output_type": "execute_result"
    }
   ],
   "source": [
    "#array of random num\n",
    "\n",
    "random = np.random.random((2,3))  #here is a random is a class and other random is a method inside the random class\n",
    "random"
   ]
  },
  {
   "cell_type": "code",
   "execution_count": null,
   "id": "256a2b82",
   "metadata": {},
   "outputs": [
    {
     "data": {
      "text/plain": [
       "array([0, 2, 4, 6, 8])"
      ]
     },
     "execution_count": 18,
     "metadata": {},
     "output_type": "execute_result"
    }
   ],
   "source": [
    "# array of sequence\n",
    "\n",
    "sequence = np.arange(0 , 10 ,2)   \n",
    "sequence"
   ]
  }
 ],
 "metadata": {
  "kernelspec": {
   "display_name": "Python 3",
   "language": "python",
   "name": "python3"
  },
  "language_info": {
   "codemirror_mode": {
    "name": "ipython",
    "version": 3
   },
   "file_extension": ".py",
   "mimetype": "text/x-python",
   "name": "python",
   "nbconvert_exporter": "python",
   "pygments_lexer": "ipython3",
   "version": "3.11.3"
  }
 },
 "nbformat": 4,
 "nbformat_minor": 5
}
