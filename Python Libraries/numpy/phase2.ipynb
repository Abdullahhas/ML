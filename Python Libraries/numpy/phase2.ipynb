{
 "cells": [
  {
   "cell_type": "markdown",
   "id": "b5ddc569",
   "metadata": {},
   "source": [
    "## Numpy Array Operations\n"
   ]
  },
  {
   "cell_type": "code",
   "execution_count": 1,
   "id": "de9a7acc",
   "metadata": {},
   "outputs": [],
   "source": [
    "import numpy as np"
   ]
  },
  {
   "cell_type": "code",
   "execution_count": 5,
   "id": "c76bec5f",
   "metadata": {},
   "outputs": [
    {
     "data": {
      "text/plain": [
       "array([ 1,  2,  3,  4,  5,  6,  7,  8,  9, 10])"
      ]
     },
     "execution_count": 5,
     "metadata": {},
     "output_type": "execute_result"
    }
   ],
   "source": [
    "arr = np.arange(1 , 11)\n",
    "arr"
   ]
  },
  {
   "cell_type": "code",
   "execution_count": 6,
   "id": "fc5a8300",
   "metadata": {},
   "outputs": [
    {
     "name": "stdout",
     "output_type": "stream",
     "text": [
      "Basic Slicing  [3 4 5 6 7]\n"
     ]
    }
   ],
   "source": [
    "# Basic Slicing\n",
    "\n",
    "print(\"Basic Slicing \" , arr[2:7])"
   ]
  },
  {
   "cell_type": "code",
   "execution_count": null,
   "id": "bbc2e96b",
   "metadata": {},
   "outputs": [
    {
     "name": "stdout",
     "output_type": "stream",
     "text": [
      "With Step Slicing  [2 4 6 8]\n"
     ]
    }
   ],
   "source": [
    "#With steps\n",
    "\n",
    "print(\"With Step Slicing \" , arr[1:8 :2])  #every second position"
   ]
  },
  {
   "cell_type": "code",
   "execution_count": 8,
   "id": "4c28f6df",
   "metadata": {},
   "outputs": [
    {
     "name": "stdout",
     "output_type": "stream",
     "text": [
      "negative indexing  8\n"
     ]
    }
   ],
   "source": [
    "#Negative indexing\n",
    "\n",
    "\n",
    "print(\"negative indexing \" , arr[-3])"
   ]
  },
  {
   "cell_type": "markdown",
   "id": "28d4e614",
   "metadata": {},
   "source": [
    "### with 2D arrays"
   ]
  },
  {
   "cell_type": "code",
   "execution_count": 14,
   "id": "a4e1e4d5",
   "metadata": {},
   "outputs": [
    {
     "name": "stdout",
     "output_type": "stream",
     "text": [
      "Specific Element : 6\n",
      "Entire Row : [4 5 6]\n",
      "Entire Col : [2 5 8]\n"
     ]
    }
   ],
   "source": [
    "arr_2d = np.array([\n",
    "    [1,2,3],\n",
    "    [4,5,6],\n",
    "    [7,8,9]\n",
    "    ])\n",
    "\n",
    "print(\"Specific Element :\" , arr_2d[1,2])\n",
    "print(\"Entire Row :\" , arr_2d[1])\n",
    "print(\"Entire Col :\" , arr_2d[:,1])"
   ]
  },
  {
   "cell_type": "markdown",
   "id": "27fa8e41",
   "metadata": {},
   "source": [
    "### Sorting"
   ]
  },
  {
   "cell_type": "code",
   "execution_count": 15,
   "id": "d6ba6ead",
   "metadata": {},
   "outputs": [
    {
     "name": "stdout",
     "output_type": "stream",
     "text": [
      "Sorted array  [1 2 3 4 5 6 8 9]\n"
     ]
    }
   ],
   "source": [
    "unsorted = np.array([3,1,4,9,2,5,8,6])\n",
    "print(\"Sorted array \" , np.sort(unsorted))"
   ]
  },
  {
   "cell_type": "code",
   "execution_count": 17,
   "id": "34529514",
   "metadata": {},
   "outputs": [
    {
     "name": "stdout",
     "output_type": "stream",
     "text": [
      "Sorted 2D by column  [[1 1]\n",
      " [2 2]\n",
      " [3 3]]\n",
      "Sorted 2D by row  [[1 3]\n",
      " [1 2]\n",
      " [2 3]]\n"
     ]
    }
   ],
   "source": [
    "arr_2d_unsorted = np.array([\n",
    "    [3,1],\n",
    "    [1,2],\n",
    "    [2,3]\n",
    "])\n",
    "print(\"Sorted 2D by column \", np.sort(arr_2d_unsorted , axis=0))\n",
    "print(\"Sorted 2D by row \", np.sort(arr_2d_unsorted , axis=1))"
   ]
  },
  {
   "cell_type": "markdown",
   "id": "06d3df72",
   "metadata": {},
   "source": [
    "## Filter"
   ]
  },
  {
   "cell_type": "code",
   "execution_count": 21,
   "id": "97ca4e78",
   "metadata": {},
   "outputs": [
    {
     "name": "stdout",
     "output_type": "stream",
     "text": [
      "even no  [ 2  4  6  8 10]\n"
     ]
    }
   ],
   "source": [
    "numbers = np.arange(1,11)\n",
    "even_no = numbers[numbers % 2 == 0]\n",
    "print(\"even no \" , even_no)"
   ]
  },
  {
   "cell_type": "markdown",
   "id": "e59fad48",
   "metadata": {},
   "source": [
    "## Filter with Mask"
   ]
  },
  {
   "cell_type": "code",
   "execution_count": 23,
   "id": "78c395ce",
   "metadata": {},
   "outputs": [
    {
     "name": "stdout",
     "output_type": "stream",
     "text": [
      "Num greater then 5  [ 6  7  8  9 10]\n"
     ]
    }
   ],
   "source": [
    "mask = numbers  > 5\n",
    "print(\"Num greater then 5 \" ,  numbers[mask])"
   ]
  },
  {
   "cell_type": "markdown",
   "id": "c9d14a6f",
   "metadata": {},
   "source": [
    "## Fancy indexing vs np.where()"
   ]
  },
  {
   "cell_type": "code",
   "execution_count": 28,
   "id": "3ede8601",
   "metadata": {},
   "outputs": [
    {
     "name": "stdout",
     "output_type": "stream",
     "text": [
      "[ 1  2  3  4  5  6  7  8  9 10]\n",
      "[1 3 5]\n",
      "Numbers where [ 6  7  8  9 10]\n"
     ]
    }
   ],
   "source": [
    "print(numbers)\n",
    "\n",
    "indices = [0,2,4]\n",
    "print(numbers[indices])\n",
    "\n",
    "where_result = np.where(numbers > 5)\n",
    "print('Numbers where', numbers[where_result])"
   ]
  },
  {
   "cell_type": "code",
   "execution_count": null,
   "id": "06cc9c48",
   "metadata": {},
   "outputs": [
    {
     "name": "stdout",
     "output_type": "stream",
     "text": [
      "condition array :  [ 1  2  3  4  5 12 14 16 18 20]\n"
     ]
    }
   ],
   "source": [
    "conditon_array = np.where(numbers > 5 , numbers * 2 , numbers)   #just like if else\n",
    "print(\"condition array : \" , conditon_array)"
   ]
  },
  {
   "cell_type": "code",
   "execution_count": 30,
   "id": "3abd9309",
   "metadata": {},
   "outputs": [
    {
     "name": "stdout",
     "output_type": "stream",
     "text": [
      "condition array :  ['false' 'false' 'false' 'false' 'false' 'true' 'true' 'true' 'true'\n",
      " 'true']\n"
     ]
    }
   ],
   "source": [
    "conditon_array = np.where(numbers > 5 ,  \"true\" , \"false\")   #just like if else\n",
    "print(\"condition array : \" , conditon_array)"
   ]
  },
  {
   "cell_type": "markdown",
   "id": "ff2ad03b",
   "metadata": {},
   "source": [
    "### Adding and Removing Data"
   ]
  },
  {
   "cell_type": "code",
   "execution_count": 31,
   "id": "621bc5ae",
   "metadata": {},
   "outputs": [
    {
     "name": "stdout",
     "output_type": "stream",
     "text": [
      "[1 2 3 4 5 6]\n"
     ]
    }
   ],
   "source": [
    "arr1 = np.array([1,2,3])\n",
    "arr2 = np.array([4,5,6])\n",
    "\n",
    "#combined = arr1 + arr2  # this adds the elements\n",
    "\n",
    "\n",
    "combined = np.concatenate((arr1 , arr2))\n",
    "print(combined)"
   ]
  },
  {
   "cell_type": "markdown",
   "id": "dc142752",
   "metadata": {},
   "source": [
    "### Array compatibility"
   ]
  },
  {
   "cell_type": "code",
   "execution_count": 33,
   "id": "8b5e6c08",
   "metadata": {},
   "outputs": [
    {
     "name": "stdout",
     "output_type": "stream",
     "text": [
      "Compatibility shape  False\n"
     ]
    }
   ],
   "source": [
    "a = np.array([1,2,3])\n",
    "b = np.array([4,5,6,7])\n",
    "c = np.array([7,8,9])\n",
    "\n",
    "print(\"Compatibility shape \", a.shape == b.shape)"
   ]
  },
  {
   "cell_type": "code",
   "execution_count": 34,
   "id": "95b8469c",
   "metadata": {},
   "outputs": [
    {
     "name": "stdout",
     "output_type": "stream",
     "text": [
      "[[1 2]\n",
      " [3 4]\n",
      " [5 6]]\n"
     ]
    }
   ],
   "source": [
    "orignal = np.array([[1,2] , [3,4]])\n",
    "new_row = np.array([[5,6]])\n",
    "with_new_row = np.vstack((orignal , new_row))    #vstack hamesha row add karne ke lie use hta he\n",
    "print(with_new_row)"
   ]
  },
  {
   "cell_type": "code",
   "execution_count": 36,
   "id": "2b2ae5cc",
   "metadata": {},
   "outputs": [
    {
     "name": "stdout",
     "output_type": "stream",
     "text": [
      "[[1 2 7]\n",
      " [3 4 8]]\n"
     ]
    }
   ],
   "source": [
    "new_col = np.array([[7] , [8]])\n",
    "with_new_col = np.hstack((orignal , new_col))\n",
    "print(with_new_col)"
   ]
  },
  {
   "cell_type": "markdown",
   "id": "f661f38e",
   "metadata": {},
   "source": [
    "### Delete"
   ]
  },
  {
   "cell_type": "code",
   "execution_count": 38,
   "id": "83adaff6",
   "metadata": {},
   "outputs": [
    {
     "name": "stdout",
     "output_type": "stream",
     "text": [
      "[1 2 4 5 6 7 8 9]\n"
     ]
    }
   ],
   "source": [
    "arr = np.array([1,2,3,4,5,6,7,8,9])\n",
    "deleted = np.delete(arr , 2)\n",
    "print(deleted)"
   ]
  }
 ],
 "metadata": {
  "kernelspec": {
   "display_name": "Python 3",
   "language": "python",
   "name": "python3"
  },
  "language_info": {
   "codemirror_mode": {
    "name": "ipython",
    "version": 3
   },
   "file_extension": ".py",
   "mimetype": "text/x-python",
   "name": "python",
   "nbconvert_exporter": "python",
   "pygments_lexer": "ipython3",
   "version": "3.11.3"
  }
 },
 "nbformat": 4,
 "nbformat_minor": 5
}
